{
 "cells": [
  {
   "cell_type": "code",
   "execution_count": 12,
   "id": "32111e83",
   "metadata": {},
   "outputs": [],
   "source": [
    "# IF THERE ARE 23 RANDOM PEOPLE IN A ROOM, THERE IS A 50% CHANCE THAT 2 OF THEM HAVE THE SAME BIRTHDAY.\n",
    "# THE BELOW CODE PROVES THE ABOVE STATEMENT BY RUNNING EXPERIMENTS AS OPPOSED TO USING MATH \n",
    "\n",
    "import random\n",
    "\n",
    "# function takes a defined number of people and a defined number of numbers.\n",
    "# returns the likelihood of the same number being chosen amongst the people\n",
    "def same_birthday(show_all = False):\n",
    "    count = 0\n",
    "    experiments = 10000\n",
    "    people = 23\n",
    "    # Runs the indented code \"experiments\" times.\n",
    "    # Indented code constructs a list of 23 random numbers from 1 to 365\n",
    "    # Returns True if duplicates. Returns False if no duplicates.\n",
    "    for experiment in range(experiments):\n",
    "        list = []\n",
    "        # Run the indented code \"people\" times\n",
    "        for i in range(people):\n",
    "            n = random.randint(1, 365)\n",
    "            list.append(n)\n",
    "        # if set is same as list then no duplicates\n",
    "        # if set is different to list then duplicates exist\n",
    "        if show_all:\n",
    "            print(sorted(list))\n",
    "            print(f\"Length of List : {len(list)} \\nLength of Set : {len(set(list))} \\nNumber of duplicates : {len(list) - len(set(list))}\")\n",
    "        # No Duplicates\n",
    "        if len(list) == len(set(list)) and show_all:\n",
    "            print(False)\n",
    "        # Duplicates\n",
    "        elif len(list) != len(set(list)):\n",
    "            if show_all:\n",
    "                print(True)\n",
    "            count += 1\n",
    "    print()\n",
    "    print(f\"Same Birthday occurs {count}/{experiments} times\")\n",
    "    print(f\"Same Birthday occurs %{(count/experiments) * 100} of the time\")"
   ]
  },
  {
   "cell_type": "code",
   "execution_count": 21,
   "id": "b44116a1",
   "metadata": {},
   "outputs": [
    {
     "name": "stdout",
     "output_type": "stream",
     "text": [
      "\n",
      "Same Birthday occurs 5104/10000 times\n",
      "Same Birthday occurs %51.04 of the time\n"
     ]
    }
   ],
   "source": [
    "# Calling the same_birthday function\n",
    "same_birthday()"
   ]
  }
 ],
 "metadata": {
  "kernelspec": {
   "display_name": "Python 3 (ipykernel)",
   "language": "python",
   "name": "python3"
  },
  "language_info": {
   "codemirror_mode": {
    "name": "ipython",
    "version": 3
   },
   "file_extension": ".py",
   "mimetype": "text/x-python",
   "name": "python",
   "nbconvert_exporter": "python",
   "pygments_lexer": "ipython3",
   "version": "3.8.3"
  }
 },
 "nbformat": 4,
 "nbformat_minor": 5
}
